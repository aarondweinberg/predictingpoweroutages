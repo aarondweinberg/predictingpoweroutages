{
 "cells": [
  {
   "cell_type": "markdown",
   "metadata": {},
   "source": [
    "This script reads a shapefile of US Counties provided by the NWS (https://www.weather.gov/gis/Counties), extracts the longitude and latitude of the centroid of each county, and rounds to the nearest 0.25 degree (to be compatible with the ERA5 data set)."
   ]
  },
  {
   "cell_type": "code",
   "execution_count": 73,
   "metadata": {},
   "outputs": [],
   "source": [
    "import geopandas\n",
    "import pandas as pd\n",
    "\n",
    "#Load the shapefile ../Data/NWS_US_Counties_Shapefiles/c_05mr24.shp\n",
    "counties = geopandas.read_file('../Data/NWS_US_Counties_Shapefiles/c_05mr24.shp')\n",
    "\n",
    "#Remove the geometry, and time zone variables from counties\n",
    "counties = counties.drop(columns=['geometry', 'TIME_ZONE'])\n",
    "\n",
    "#Restrict data to the continental US: Remove all entries in counties where STATE is AS, PR, VI, PW, MH, MP, GU, HI, AK, or FM\n",
    "counties = counties[~counties['STATE'].isin(['AS', 'PR', 'VI', 'PW', 'MH', 'MP', 'GU', 'FM', 'HI', 'AK'])]\n",
    "\n",
    "#Drop the columns CWA and FE_AREA\n",
    "counties = counties.drop(columns=['CWA', 'FE_AREA'])\n",
    "\n",
    "#Convert FIPS in counties to float64 (to facilitate merging with other data sets)\n",
    "counties['FIPS'] = counties['FIPS'].astype(float)\n",
    "\n",
    "#Round LON and LAT to the nearest quarter-degree to facilitate merging with ERA5 data\n",
    "counties['LON'] = (counties['LON'] * 4).round() / 4\n",
    "counties['LAT'] = (counties['LAT'] * 4).round() / 4\n",
    "\n",
    "#Create a geometry column (for use with geopandas) from the longitude and latitude\n",
    "counties['geometry'] = geopandas.points_from_xy(counties['LON'], counties['LAT'])\n",
    "\n",
    "#Export counties as a csv file\n",
    "counties.to_csv('../Data/counties_centroids.csv', index=False)"
   ]
  }
 ],
 "metadata": {
  "kernelspec": {
   "display_name": "erdos_spring_2025",
   "language": "python",
   "name": "python3"
  },
  "language_info": {
   "codemirror_mode": {
    "name": "ipython",
    "version": 3
   },
   "file_extension": ".py",
   "mimetype": "text/x-python",
   "name": "python",
   "nbconvert_exporter": "python",
   "pygments_lexer": "ipython3",
   "version": "3.12.8"
  }
 },
 "nbformat": 4,
 "nbformat_minor": 2
}

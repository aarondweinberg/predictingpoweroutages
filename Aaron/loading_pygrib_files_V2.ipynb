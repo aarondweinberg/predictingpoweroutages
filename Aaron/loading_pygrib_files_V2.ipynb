{
 "cells": [
  {
   "cell_type": "code",
   "execution_count": null,
   "metadata": {},
   "outputs": [],
   "source": [
    "# Make the output of plotting commands be displayed inline within the notebook,\n",
    "%matplotlib inline \n",
    "from mpl_toolkits.basemap import Basemap  # import Basemap matplotlib toolkit\n",
    "import numpy as np\n",
    "import matplotlib.pyplot as plt\n",
    "import pygrib # import pygrib interface to grib_api\n",
    "\n",
    "grbs = pygrib.open('ecmwf_ensemble.grb')\n",
    "\n",
    "for grb in grbs[:4]:\n",
    "    print grb\n",
    "\n",
    "print grb.keys()\n",
    "\n",
    "grbs.rewind() # rewind the iterator\n",
    "from datetime import datetime\n",
    "date_valid = datetime(2014,2,3,0)\n",
    "t2mens = []\n",
    "for grb in grbs:\n",
    "    if grb.validDate == date_valid and grb.parameterName == 'Temperature' and grb.level == 2: \n",
    "        t2mens.append(grb.values)\n",
    "t2mens = np.array(t2mens)\n",
    "print t2mens.shape, t2mens.min(), t2mens.max()\n",
    "lats, lons = grb.latlons()  # get the lats and lons for the grid.\n",
    "print 'min/max lat and lon',lats.min(), lats.max(), lons.min(), lons.max()\n",
    "\n",
    "fig = plt.figure(figsize=(16,35))\n",
    "m = Basemap(projection='lcc',lon_0=-74,lat_0=41,width=4.e6,height=4.e6)\n",
    "x,y = m(lons,lats)\n",
    "for nens in range(1,51):\n",
    "    ax = plt.subplot(10,5,nens)\n",
    "    m.drawcoastlines()\n",
    "    cs = m.contourf(x,y,t2mens[nens],np.linspace(230,300,41),cmap=plt.cm.jet,extend='both')\n",
    "    t = plt.title('ens member %s' % nens)\n",
    "\n",
    "freezeprob = 100.*((t2mens < 273).sum(axis=0))/t2mens.shape[0]\n",
    "print freezeprob.min(), freezeprob.max(), freezeprob.shape\n",
    "m.drawcoastlines(color='r')\n",
    "from mpl_toolkits.basemap import cm as basemapcm\n",
    "cs = m.contourf(x,y,freezeprob,np.linspace(0,100.,41),cmap=basemapcm.GMT_haxby_r)\n",
    "cb = m.colorbar()\n",
    "xpt, ypt = m(-74,41)\n",
    "nyc = m.plot([xpt],[ypt],'ro') # plot red dot near the Meadowlands.\n",
    "t = plt.title('ens prob t2m < 273 (go Broncos!)')\n",
    "\n"
   ]
  }
 ],
 "metadata": {
  "language_info": {
   "name": "python"
  }
 },
 "nbformat": 4,
 "nbformat_minor": 2
}

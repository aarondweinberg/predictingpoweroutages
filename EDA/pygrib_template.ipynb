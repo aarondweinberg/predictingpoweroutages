{
 "cells": [
  {
   "cell_type": "code",
   "execution_count": null,
   "metadata": {},
   "outputs": [
    {
     "ename": "IndentationError",
     "evalue": "unexpected indent (3495309211.py, line 2)",
     "output_type": "error",
     "traceback": [
      "\u001b[0;36m  Cell \u001b[0;32mIn[1], line 2\u001b[0;36m\u001b[0m\n\u001b[0;31m    import pygrib\u001b[0m\n\u001b[0m    ^\u001b[0m\n\u001b[0;31mIndentationError\u001b[0m\u001b[0;31m:\u001b[0m unexpected indent\n"
     ]
    }
   ],
   "source": [
    "#Import necessary libraries.\n",
    "import pygrib\n",
    "import pandas as pd\n",
    "import numpy as np\n",
    "\n",
    "#Open the GRIB file.\n",
    "grib_file = '../Data/a3d700c0638cdb3a7d8b291e79517521/data.grib'\n",
    "grbs = pygrib.open(grib_file)\n",
    "\n",
    "#Iterate through GRIB messages and extract data:\n",
    "data = []\n",
    "for grb in grbs:\n",
    "    # Extract relevant information\n",
    "    latitude = grb['latitudeOfFirstGridPoint']\n",
    "    longitude = grb['longitudeOfFirstGridPoint']\n",
    "    values = grb['values']\n",
    "    \n",
    "    # Append data to list\n",
    "    data.append({\n",
    "        'latitude': latitude,\n",
    "        'longitude': longitude,\n",
    "        'values': values,\n",
    "        'parameter': grb['parameterName'],\n",
    "        'level': grb['level']\n",
    "    })\n",
    "#Create a pandas DataFrame.\n",
    "df = pd.DataFrame(data)\n",
    "\n",
    "#Handle multiple grid points per message: If each GRIB message contains a grid of data points, flatten the data and create new rows for each point.\n",
    "all_data = []\n",
    "for _, row in df.iterrows():\n",
    "    lat_start = row['latitude']\n",
    "    lon_start = row['longitude']\n",
    "    values = row['values']\n",
    "    ni = grb['Ni']  # Number of grid points in i direction\n",
    "    nj = grb['Nj']  # Number of grid points in j direction\n",
    "    lat_step = grb['jDirectionIncrementInDegrees']\n",
    "    lon_step = grb['iDirectionIncrementInDegrees']\n",
    "\n",
    "    for i in range(nj):\n",
    "        for j in range(ni):\n",
    "            all_data.append({\n",
    "                'latitude': lat_start + i * lat_step,\n",
    "                'longitude': lon_start + j * lon_step,\n",
    "                'value': values[i * ni + j],\n",
    "                'parameter': row['parameter'],\n",
    "                'level': row['level']\n",
    "            })\n",
    "\n",
    "df_expanded = pd.DataFrame(all_data)\n",
    "\n",
    "#Print or further process the DataFrame.\n",
    "print(df_expanded.head())"
   ]
  }
 ],
 "metadata": {
  "kernelspec": {
   "display_name": "erdos_spring_2025",
   "language": "python",
   "name": "python3"
  },
  "language_info": {
   "codemirror_mode": {
    "name": "ipython",
    "version": 3
   },
   "file_extension": ".py",
   "mimetype": "text/x-python",
   "name": "python",
   "nbconvert_exporter": "python",
   "pygments_lexer": "ipython3",
   "version": "3.12.9"
  }
 },
 "nbformat": 4,
 "nbformat_minor": 2
}

{
 "cells": [
  {
   "cell_type": "markdown",
   "metadata": {},
   "source": [
    "The goal of this notebook is to demonstrate loading a grib file using pygrib and then converting it into a pandas data frame"
   ]
  },
  {
   "cell_type": "code",
   "execution_count": 2,
   "metadata": {},
   "outputs": [
    {
     "ename": "IndexError",
     "evalue": "index 251 is out of bounds for axis 0 with size 251",
     "output_type": "error",
     "traceback": [
      "\u001b[0;31m---------------------------------------------------------------------------\u001b[0m",
      "\u001b[0;31mIndexError\u001b[0m                                Traceback (most recent call last)",
      "Cell \u001b[0;32mIn[2], line 45\u001b[0m\n\u001b[1;32m     40\u001b[0m     \u001b[38;5;28;01mfor\u001b[39;00m i \u001b[38;5;129;01min\u001b[39;00m \u001b[38;5;28mrange\u001b[39m(nj):\n\u001b[1;32m     41\u001b[0m         \u001b[38;5;28;01mfor\u001b[39;00m j \u001b[38;5;129;01min\u001b[39;00m \u001b[38;5;28mrange\u001b[39m(ni):\n\u001b[1;32m     42\u001b[0m             all_data\u001b[38;5;241m.\u001b[39mappend({\n\u001b[1;32m     43\u001b[0m                 \u001b[38;5;124m'\u001b[39m\u001b[38;5;124mlatitude\u001b[39m\u001b[38;5;124m'\u001b[39m: lat_start \u001b[38;5;241m+\u001b[39m i \u001b[38;5;241m*\u001b[39m lat_step,\n\u001b[1;32m     44\u001b[0m                 \u001b[38;5;124m'\u001b[39m\u001b[38;5;124mlongitude\u001b[39m\u001b[38;5;124m'\u001b[39m: lon_start \u001b[38;5;241m+\u001b[39m j \u001b[38;5;241m*\u001b[39m lon_step,\n\u001b[0;32m---> 45\u001b[0m                 \u001b[38;5;124m'\u001b[39m\u001b[38;5;124mvalue\u001b[39m\u001b[38;5;124m'\u001b[39m: \u001b[43mvalues\u001b[49m\u001b[43m[\u001b[49m\u001b[43mi\u001b[49m\u001b[43m \u001b[49m\u001b[38;5;241;43m*\u001b[39;49m\u001b[43m \u001b[49m\u001b[43mni\u001b[49m\u001b[43m \u001b[49m\u001b[38;5;241;43m+\u001b[39;49m\u001b[43m \u001b[49m\u001b[43mj\u001b[49m\u001b[43m]\u001b[49m,\n\u001b[1;32m     46\u001b[0m                 \u001b[38;5;124m'\u001b[39m\u001b[38;5;124mparameter\u001b[39m\u001b[38;5;124m'\u001b[39m: row[\u001b[38;5;124m'\u001b[39m\u001b[38;5;124mparameter\u001b[39m\u001b[38;5;124m'\u001b[39m],\n\u001b[1;32m     47\u001b[0m                 \u001b[38;5;124m'\u001b[39m\u001b[38;5;124mlevel\u001b[39m\u001b[38;5;124m'\u001b[39m: row[\u001b[38;5;124m'\u001b[39m\u001b[38;5;124mlevel\u001b[39m\u001b[38;5;124m'\u001b[39m]\n\u001b[1;32m     48\u001b[0m             })\n\u001b[1;32m     50\u001b[0m df_expanded \u001b[38;5;241m=\u001b[39m pd\u001b[38;5;241m.\u001b[39mDataFrame(all_data)\n\u001b[1;32m     52\u001b[0m \u001b[38;5;66;03m#Print or further process the DataFrame.\u001b[39;00m\n",
      "File \u001b[0;32m/opt/anaconda3/envs/erdos_spring_2025/lib/python3.12/site-packages/numpy/ma/core.py:3228\u001b[0m, in \u001b[0;36mMaskedArray.__getitem__\u001b[0;34m(self, indx)\u001b[0m\n\u001b[1;32m   3218\u001b[0m \u001b[38;5;250m\u001b[39m\u001b[38;5;124;03m\"\"\"\u001b[39;00m\n\u001b[1;32m   3219\u001b[0m \u001b[38;5;124;03mx.__getitem__(y) <==> x[y]\u001b[39;00m\n\u001b[1;32m   3220\u001b[0m \n\u001b[1;32m   3221\u001b[0m \u001b[38;5;124;03mReturn the item described by i, as a masked array.\u001b[39;00m\n\u001b[1;32m   3222\u001b[0m \n\u001b[1;32m   3223\u001b[0m \u001b[38;5;124;03m\"\"\"\u001b[39;00m\n\u001b[1;32m   3224\u001b[0m \u001b[38;5;66;03m# We could directly use ndarray.__getitem__ on self.\u001b[39;00m\n\u001b[1;32m   3225\u001b[0m \u001b[38;5;66;03m# But then we would have to modify __array_finalize__ to prevent the\u001b[39;00m\n\u001b[1;32m   3226\u001b[0m \u001b[38;5;66;03m# mask of being reshaped if it hasn't been set up properly yet\u001b[39;00m\n\u001b[1;32m   3227\u001b[0m \u001b[38;5;66;03m# So it's easier to stick to the current version\u001b[39;00m\n\u001b[0;32m-> 3228\u001b[0m dout \u001b[38;5;241m=\u001b[39m \u001b[38;5;28;43mself\u001b[39;49m\u001b[38;5;241;43m.\u001b[39;49m\u001b[43mdata\u001b[49m\u001b[43m[\u001b[49m\u001b[43mindx\u001b[49m\u001b[43m]\u001b[49m\n\u001b[1;32m   3229\u001b[0m _mask \u001b[38;5;241m=\u001b[39m \u001b[38;5;28mself\u001b[39m\u001b[38;5;241m.\u001b[39m_mask\n\u001b[1;32m   3231\u001b[0m \u001b[38;5;28;01mdef\u001b[39;00m\u001b[38;5;250m \u001b[39m\u001b[38;5;21m_is_scalar\u001b[39m(m):\n",
      "\u001b[0;31mIndexError\u001b[0m: index 251 is out of bounds for axis 0 with size 251"
     ]
    }
   ],
   "source": [
    "#Import necessary libraries.\n",
    "import pygrib\n",
    "import pandas as pd\n",
    "import numpy as np\n",
    "\n",
    "#Open the GRIB file.\n",
    "grib_file = '../Data/a3d700c0638cdb3a7d8b291e79517521/data.grib'\n",
    "grbs = pygrib.open(grib_file)\n",
    "\n",
    "#Iterate through GRIB messages and extract data:\n",
    "data = []\n",
    "for grb in grbs:\n",
    "    # Extract relevant information\n",
    "    latitude = grb['latitudeOfFirstGridPoint']\n",
    "    longitude = grb['longitudeOfFirstGridPoint']\n",
    "    values = grb['values']\n",
    "    \n",
    "    # Append data to list\n",
    "    data.append({\n",
    "        'latitude': latitude,\n",
    "        'longitude': longitude,\n",
    "        'values': values,\n",
    "        'parameter': grb['parameterName'],\n",
    "        'level': grb['level']\n",
    "    })\n",
    "#Create a pandas DataFrame.\n",
    "df = pd.DataFrame(data)\n",
    "\n",
    "#Handle multiple grid points per message: If each GRIB message contains a grid of data points, flatten the data and create new rows for each point.\n",
    "all_data = []\n",
    "for _, row in df.iterrows():\n",
    "    lat_start = row['latitude']\n",
    "    lon_start = row['longitude']\n",
    "    values = row['values']\n",
    "    ni = grb['Ni']  # Number of grid points in i direction\n",
    "    nj = grb['Nj']  # Number of grid points in j direction\n",
    "    lat_step = grb['jDirectionIncrementInDegrees']\n",
    "    lon_step = grb['iDirectionIncrementInDegrees']\n",
    "\n",
    "    for i in range(nj):\n",
    "        for j in range(ni):\n",
    "            all_data.append({\n",
    "                'latitude': lat_start + i * lat_step,\n",
    "                'longitude': lon_start + j * lon_step,\n",
    "                'value': values[i * ni + j],\n",
    "                'parameter': row['parameter'],\n",
    "                'level': row['level']\n",
    "            })\n",
    "\n",
    "df_expanded = pd.DataFrame(all_data)\n",
    "\n",
    "#Print or further process the DataFrame.\n",
    "print(df_expanded.head())"
   ]
  },
  {
   "cell_type": "markdown",
   "metadata": {},
   "source": []
  }
 ],
 "metadata": {
  "kernelspec": {
   "display_name": "erdos_spring_2025",
   "language": "python",
   "name": "python3"
  },
  "language_info": {
   "codemirror_mode": {
    "name": "ipython",
    "version": 3
   },
   "file_extension": ".py",
   "mimetype": "text/x-python",
   "name": "python",
   "nbconvert_exporter": "python",
   "pygments_lexer": "ipython3",
   "version": "3.12.9"
  }
 },
 "nbformat": 4,
 "nbformat_minor": 2
}
